{
 "cells": [
  {
   "cell_type": "markdown",
   "metadata": {},
   "source": [
    "Funciones en Python"
   ]
  },
  {
   "cell_type": "code",
   "execution_count": 1,
   "metadata": {},
   "outputs": [],
   "source": [
    "#funcion f(x,y,z) =x+y+z\n",
    "def f(x,y,z):\n",
    "    resultado = x+y+z\n",
    "    \n",
    "    return resultado"
   ]
  },
  {
   "cell_type": "markdown",
   "metadata": {},
   "source": [
    "PSEUDO CODIGO"
   ]
  },
  {
   "cell_type": "markdown",
   "metadata": {},
   "source": [
    "*pipeline\n",
    "\n",
    "llamdaxxx.csv--> read_data--> get_summary --> save_data -->resumen_llamdaxxx-csv\n",
    "\n",
    "def main()\n",
    "    get_data()\n",
    "    get_summary()\n",
    "    save_output()\n",
    "    "
   ]
  },
  {
   "cell_type": "code",
   "execution_count": 2,
   "metadata": {},
   "outputs": [],
   "source": [
    "#Funcion que calcule:\n",
    "    #1. la suma de todos los numeros de una lista\n",
    "    #2. el minimo valor de la lista\n",
    "    #3. el maximo valor de la lista\n",
    "    #4. Calcule la media y desviasion estandar\n",
    "#Pseudo Codigo\n",
    " #def calcularvalores():\n",
    "import numpy as np\n",
    "def calcularValores(lista_numeros,verbose):\n",
    "    \"\"\"Retorna los valores de suma,media, desviacion estandar y minimos y maximos\n",
    "\n",
    "    Args:\n",
    "        lista_numeros (list): lista con valores numericos\n",
    "        verbose (bool): para decidir imprimir mensajes en pantalla. Defaults to False.\n",
    "\n",
    "    Returns:\n",
    "        tupla: ((min,max),(media,desviacionestandar),suma)\n",
    "    \"\"\"\n",
    "    #get_maxmin(list_num)\n",
    "    valMaxMin =calcular_min_max(lista_numeros,verbose)\n",
    "    #get_medias(lis_num)\n",
    "    medDesvStd =valorescentrales(lista_numeros,verbose)\n",
    "    #get_sum(list_num)\n",
    "    suma=np.sum(lista_numeros)\n",
    "    #return sum, min_val, max_val,media, dev_stan\n",
    "    return valMaxMin,medDesvStd,suma\n",
    "\n",
    "\n",
    "#get_maxmin(list_num)\n",
    "def calcular_min_max(lista_numeros, verbose = False):\n",
    "    '''\n",
    "    Funcion que calcula los minimos y maximos de una lista\n",
    "    \n",
    "    '''\n",
    "    min_value=min(lista_numeros)\n",
    "    max_value=max(lista_numeros)\n",
    "    if verbose == True:\n",
    "        print(\"Minimo: \",min_value)\n",
    "        print(\"Maximo: \",max_value)\n",
    "    else:\n",
    "        pass\n",
    "    return min_value,max_value\n",
    "#get_medias(lis_num)\n",
    "def valorescentrales(lista_numeros, verbose = False):\n",
    "    \"\"\"Calcula la media y la desviacion estandar de una lista de numeros\n",
    "\n",
    "    Args:\n",
    "        lista_numeros (list): lista con valores numericos\n",
    "        verbose (bool, optional): para decidir imprimir mensajes en pantalla. Defaults to False.\n",
    "\n",
    "    Returns:\n",
    "        tupla: (media,desviacion estandar)\n",
    "    \"\"\"\n",
    "    md=np.mean(lista_numeros)\n",
    "    desv_std=np.std(lista_numeros)\n",
    "    if verbose ==True:\n",
    "        print(\"Meida\",md)\n",
    "        print(\"Desviacion\",desv_std)\n",
    "    return md, desv_std\n",
    "    #get_desvstan(list_num)\n",
    "    \n",
    "\n"
   ]
  },
  {
   "cell_type": "code",
   "execution_count": 3,
   "metadata": {},
   "outputs": [
    {
     "data": {
      "text/plain": [
       "((4, 21), (9.4, 6.086049621881176), 47)"
      ]
     },
     "execution_count": 3,
     "metadata": {},
     "output_type": "execute_result"
    }
   ],
   "source": [
    "lista_valores=[5,4,8,9,21]\n",
    "calcularValores(lista_valores,False)\n"
   ]
  }
 ],
 "metadata": {
  "kernelspec": {
   "display_name": "Python 3.9.12 ('base')",
   "language": "python",
   "name": "python3"
  },
  "language_info": {
   "codemirror_mode": {
    "name": "ipython",
    "version": 3
   },
   "file_extension": ".py",
   "mimetype": "text/x-python",
   "name": "python",
   "nbconvert_exporter": "python",
   "pygments_lexer": "ipython3",
   "version": "3.9.12"
  },
  "orig_nbformat": 4,
  "vscode": {
   "interpreter": {
    "hash": "30d74844be1808c9260ccdfa7b4b7d4ee4b0ec4487d52a05d331b08e68d80094"
   }
  }
 },
 "nbformat": 4,
 "nbformat_minor": 2
}
